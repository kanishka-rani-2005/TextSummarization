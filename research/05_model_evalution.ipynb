{
 "cells": [
  {
   "cell_type": "code",
   "execution_count": 1,
   "id": "1e033cca",
   "metadata": {},
   "outputs": [
    {
     "data": {
      "text/plain": [
       "'e:\\\\TextSummarization\\\\research'"
      ]
     },
     "execution_count": 1,
     "metadata": {},
     "output_type": "execute_result"
    }
   ],
   "source": [
    "import os \n",
    "%pwd\n"
   ]
  },
  {
   "cell_type": "code",
   "execution_count": 2,
   "id": "b814a6d9",
   "metadata": {},
   "outputs": [
    {
     "data": {
      "text/plain": [
       "'e:\\\\TextSummarization'"
      ]
     },
     "execution_count": 2,
     "metadata": {},
     "output_type": "execute_result"
    }
   ],
   "source": [
    "os.chdir('../')\n",
    "%pwd"
   ]
  },
  {
   "cell_type": "code",
   "execution_count": 3,
   "id": "a200810f",
   "metadata": {},
   "outputs": [],
   "source": [
    "from dataclasses import dataclass\n",
    "from pathlib import Path\n",
    "\n",
    "@dataclass(frozen=True)\n",
    "class ModelEvaluationConfig:\n",
    "    root_dir: Path\n",
    "    data_path: Path\n",
    "    model_path: Path\n",
    "    tokenizer_path: Path\n",
    "    metric_file_name: Path"
   ]
  },
  {
   "cell_type": "code",
   "execution_count": 4,
   "id": "9f378269",
   "metadata": {},
   "outputs": [],
   "source": [
    "from src.TextSummarizer.constants import *\n",
    "from src.TextSummarizer.utils.common import read_yaml, create_directories"
   ]
  },
  {
   "cell_type": "code",
   "execution_count": 5,
   "id": "689997c6",
   "metadata": {},
   "outputs": [],
   "source": [
    "class ConfigManager:\n",
    "    def __init__(self, config_filepath=CONFIG_FILE_PATH,params_filepath=PARAMS_FILE_PATH):\n",
    "        self.config = read_yaml(Path(config_filepath))\n",
    "        self.params = read_yaml(Path(params_filepath))\n",
    "        create_directories([self.config.artifacts_root])\n",
    "\n",
    "    def get_model_evaluation_config(self)->ModelEvaluationConfig:\n",
    "        config=self.config.model_evaluation\n",
    "        create_directories([config.root_dir])\n",
    "\n",
    "        return ModelEvaluationConfig(\n",
    "            root_dir=config.root_dir,\n",
    "            data_path=config.data_path,\n",
    "            model_path=config.model_path,\n",
    "            tokenizer_path=config.tokenizer_path,\n",
    "            metric_file_name=config.metric_file_name\n",
    "        )\n"
   ]
  },
  {
   "cell_type": "code",
   "execution_count": 7,
   "id": "66c036a5",
   "metadata": {},
   "outputs": [],
   "source": [
    "from transformers import AutoModelForSeq2SeqLM, AutoTokenizer\n",
    "from datasets import load_dataset,load_from_disk\n",
    "import torch\n",
    "import pandas as pd\n",
    "from tqdm import tqdm"
   ]
  },
  {
   "cell_type": "code",
   "execution_count": null,
   "id": "29e0d5b8",
   "metadata": {},
   "outputs": [],
   "source": [
    "class ModelEvaluation:\n",
    "    def __init__(self,config:ModelEvaluationConfig):\n",
    "        self.config=config\n",
    "    def generate_batch_sized_chunks(self,list_of_elements,batch_size):\n",
    "        for i in range(0,len(list_of_elements),batch_size):\n",
    "            yield list_of_elements[i:i+batch_size]\n",
    "\n",
    "    def calculate_metric_on_test_ds(self,dataset,metric,model,tokenizer,\n",
    "                                    batch_size=16,device='cuda' if torch.cuda.is_available() else 'cpu',\n",
    "                                    column_text='article',\n",
    "                                    column_summary='highlights'\n",
    "                                    ):\n",
    "        article_batches=list(self.generate_batch_sized_chunks(dataset[column_text],batch_size))\n",
    "        target_batches=list(self.generate_batch_sized_chunks(dataset[column_summary],batch_size))\n",
    "\n",
    "        for article_batch,target_batch in tqdm(\n",
    "            zip(article_batches,target_batches),total=len(article_batches)\n",
    "        ):\n",
    "            inputs=tokenizer(article_batch,max_length=1024,truncation=True,padding='max_length',return_tensors='pt')\n",
    "            summaries=model.generate(inputs_id=inputs['input_ids'].to(device),\n",
    "                                     attention_mask=inputs['attention_mask'].to(device),\n",
    "                                     length_penalty=0.8,num_beams=8,max_length=128\n",
    "                                     )\n",
    "            decoded_summaries=[tokenizer.decode(s,skip_special_tokens=True,clean_up_tokenization_spaces=True) for s in summaries]\n",
    "            decoded_summaries=[d.replace(\"\",\" \") for d in decoded_summaries]\n",
    "\n",
    "\n",
    "            metric.add_batch(predictions=decoded_summaries,references=target_batch)\n",
    "\n",
    "        score=metric.compute()\n",
    "\n",
    "        return score()\n",
    "    \n",
    "    def evaluate(self):\n",
    "        device='cuda' if torch.cuda.is_available() else 'cpu'\n",
    "        tokenizer=AutoTokenizer.from_pretrained(self.config.tokenizer_path)\n",
    "\n",
    "        model_t5=AutoModelForSeq2SeqLM.from_pretrained(self.config.model_path).to(device)\n",
    "\n",
    "        \n",
    "\n",
    "\n"
   ]
  }
 ],
 "metadata": {
  "kernelspec": {
   "display_name": "venv",
   "language": "python",
   "name": "python3"
  },
  "language_info": {
   "codemirror_mode": {
    "name": "ipython",
    "version": 3
   },
   "file_extension": ".py",
   "mimetype": "text/x-python",
   "name": "python",
   "nbconvert_exporter": "python",
   "pygments_lexer": "ipython3",
   "version": "3.12.4"
  }
 },
 "nbformat": 4,
 "nbformat_minor": 5
}
