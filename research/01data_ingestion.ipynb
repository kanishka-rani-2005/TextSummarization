{
 "cells": [
  {
   "cell_type": "code",
   "execution_count": 1,
   "id": "ce50beba",
   "metadata": {},
   "outputs": [
    {
     "data": {
      "text/plain": [
       "'e:\\\\TextSummarization\\\\research'"
      ]
     },
     "execution_count": 1,
     "metadata": {},
     "output_type": "execute_result"
    }
   ],
   "source": [
    "import os\n",
    "%pwd"
   ]
  },
  {
   "cell_type": "code",
   "execution_count": 2,
   "id": "4f0d892d",
   "metadata": {},
   "outputs": [
    {
     "data": {
      "text/plain": [
       "'e:\\\\TextSummarization'"
      ]
     },
     "execution_count": 2,
     "metadata": {},
     "output_type": "execute_result"
    }
   ],
   "source": [
    "os.chdir('../')\n",
    "%pwd"
   ]
  },
  {
   "cell_type": "code",
   "execution_count": 3,
   "id": "a65ea838",
   "metadata": {},
   "outputs": [],
   "source": [
    "from dataclasses import dataclass\n",
    "from pathlib import Path\n",
    "\n",
    "# Return type\n",
    "@dataclass(frozen=True)\n",
    "class DataIngestionConfig:\n",
    "    root_dir: Path\n",
    "    source_url: str\n",
    "    local_data_file: Path\n",
    "    unzip_dir: Path"
   ]
  },
  {
   "cell_type": "code",
   "execution_count": 4,
   "id": "b561d943",
   "metadata": {},
   "outputs": [],
   "source": [
    "from src.TextSummarizer.constants import *\n",
    "from src.TextSummarizer.utils.common import read_yaml, create_directories"
   ]
  },
  {
   "cell_type": "code",
   "execution_count": 5,
   "id": "b38a7601",
   "metadata": {},
   "outputs": [],
   "source": [
    "class ConfigManager:\n",
    "    def __init__(self, config_filepath=CONFIG_FILE_PATH,params_filepath=PARAMS_FILE_PATH):\n",
    "        self.config = read_yaml(Path(config_filepath))\n",
    "        self.params = read_yaml(Path(params_filepath))\n",
    "        create_directories([self.config.artifacts_root])\n",
    "\n",
    "    def get_data_ingestion_config(self) -> DataIngestionConfig:\n",
    "        data_ingestion_config = self.config.data_ingestion\n",
    "        create_directories([data_ingestion_config.root_dir])\n",
    "        return DataIngestionConfig(\n",
    "            root_dir=Path(data_ingestion_config.root_dir),\n",
    "            source_url=data_ingestion_config.source_url,\n",
    "            local_data_file=Path(data_ingestion_config.local_data_file),\n",
    "            unzip_dir=Path(data_ingestion_config.unzip_dir)\n",
    "        )"
   ]
  },
  {
   "cell_type": "code",
   "execution_count": 6,
   "id": "c00c4e7d",
   "metadata": {},
   "outputs": [],
   "source": [
    "import os \n",
    "import urllib.request as request\n",
    "from zipfile import ZipFile\n",
    "from src.TextSummarizer.utils.common import get_size\n",
    "from src.TextSummarizer.logging import logger"
   ]
  },
  {
   "cell_type": "code",
   "execution_count": 7,
   "id": "03c0f945",
   "metadata": {},
   "outputs": [],
   "source": [
    "class DataIngestion:\n",
    "    def __init__(self,config:DataIngestionConfig):\n",
    "        self.config = config\n",
    "\n",
    "\n",
    "    def download_file(self):\n",
    "        try:\n",
    "            if not os.path.exists(self.config.local_data_file):\n",
    "                logger.info(f\"Downloading file from: {self.config.source_url}\")\n",
    "                url= self.config.source_url\n",
    "                file_name = self.config.local_data_file\n",
    "                file_name , headers =request.urlretrieve(url, file_name)\n",
    "\n",
    "                logger.info(f\"File downloaded: {self.config.local_data_file} of size: {get_size(self.config.local_data_file)}\")\n",
    "            else:\n",
    "                logger.info(f\"File already exists: {self.config.local_data_file} of size: {get_size(self.config.local_data_file)}\")\n",
    "\n",
    "\n",
    "        except Exception as e:\n",
    "            logger.exception(e)\n",
    "            raise e\n",
    "    def extract_zip_file(self):\n",
    "        try:\n",
    "            unizip_dir = self.config.unzip_dir\n",
    "            if not os.path.exists(unizip_dir):\n",
    "                os.makedirs(unizip_dir)\n",
    "            logger.info(f\"Extracting file: {self.config.local_data_file} to {unizip_dir}\")\n",
    "            with ZipFile(self.config.local_data_file, 'r') as zip_ref:\n",
    "                zip_ref.extractall(unizip_dir)\n",
    "            logger.info(f\"File extracted to: {unizip_dir}\")\n",
    "        except Exception as e:\n",
    "            logger.exception(e)\n",
    "            raise e\n",
    "        \n",
    "        "
   ]
  },
  {
   "cell_type": "code",
   "execution_count": 8,
   "id": "c3f8aad0",
   "metadata": {},
   "outputs": [
    {
     "name": "stdout",
     "output_type": "stream",
     "text": [
      "2025-07-08 01:20:41,458 - TextSummarizerLogger - INFO - YAML file config\\config.yaml loaded successfully.\n",
      "2025-07-08 01:20:41,460 - TextSummarizerLogger - INFO - YAML file params\\params.yaml loaded successfully.\n",
      "2025-07-08 01:20:41,462 - TextSummarizerLogger - INFO - Created Directory at : artifacts\n",
      "2025-07-08 01:20:41,465 - TextSummarizerLogger - INFO - Created Directory at : artifacts/data_ingestion\n",
      "2025-07-08 01:20:41,466 - TextSummarizerLogger - INFO - Downloading file from: https://github.com/entbappy/Branching-tutorial/raw/refs/heads/master/summarizer-data.zip\n",
      "2025-07-08 01:21:29,558 - TextSummarizerLogger - INFO - File downloaded: artifacts\\data_ingestion\\samsumdata.zip of size: 7718 KB\n",
      "2025-07-08 01:21:29,560 - TextSummarizerLogger - INFO - Extracting file: artifacts\\data_ingestion\\samsumdata.zip to artifacts\\data_ingestion\n",
      "2025-07-08 01:21:29,735 - TextSummarizerLogger - INFO - File extracted to: artifacts\\data_ingestion\n"
     ]
    }
   ],
   "source": [
    "try:\n",
    "    config = ConfigManager()\n",
    "    data_ingestion_config = config.get_data_ingestion_config()\n",
    "    data_ingestion = DataIngestion(config=data_ingestion_config)\n",
    "    data_ingestion.download_file()\n",
    "    data_ingestion.extract_zip_file()\n",
    "\n",
    "except Exception as e:\n",
    "    logger.exception(e)\n",
    "    raise e"
   ]
  }
 ],
 "metadata": {
  "kernelspec": {
   "display_name": "Python 3",
   "language": "python",
   "name": "python3"
  },
  "language_info": {
   "codemirror_mode": {
    "name": "ipython",
    "version": 3
   },
   "file_extension": ".py",
   "mimetype": "text/x-python",
   "name": "python",
   "nbconvert_exporter": "python",
   "pygments_lexer": "ipython3",
   "version": "3.12.4"
  }
 },
 "nbformat": 4,
 "nbformat_minor": 5
}
